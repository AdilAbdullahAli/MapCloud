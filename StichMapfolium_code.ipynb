{
 "cells": [
  {
   "cell_type": "code",
   "execution_count": 1,
   "id": "0df81c75-e8ec-426d-b66e-367ee9a80060",
   "metadata": {},
   "outputs": [],
   "source": [
    "import cv2\n",
    "import os"
   ]
  },
  {
   "cell_type": "code",
   "execution_count": 3,
   "id": "0a56613e-ce8f-4315-826b-08e42e41befe",
   "metadata": {},
   "outputs": [
    {
     "name": "stdout",
     "output_type": "stream",
     "text": [
      "Defaulting to user installation because normal site-packages is not writeable\n",
      "Requirement already satisfied: opencv-python in c:\\users\\adila\\appdata\\roaming\\python\\python312\\site-packages (4.11.0.86)\n",
      "Requirement already satisfied: numpy>=1.21.2 in c:\\programdata\\anaconda3\\lib\\site-packages (from opencv-python) (1.26.4)\n",
      "Note: you may need to restart the kernel to use updated packages.\n"
     ]
    }
   ],
   "source": [
    "pip install opencv-python\n"
   ]
  },
  {
   "cell_type": "code",
   "execution_count": 5,
   "id": "beb89dba-8448-440b-b330-123432dc68fc",
   "metadata": {},
   "outputs": [],
   "source": [
    "import cv2\n",
    "import os"
   ]
  },
  {
   "cell_type": "code",
   "execution_count": 13,
   "id": "3892a621-e253-464e-9886-ad1703b6e00d",
   "metadata": {},
   "outputs": [],
   "source": [
    "video_file = r\"C:\\Users\\adila\\Videos\\Captures\\geo.mp4\"\n",
    "output_folder = r\"C:\\Users\\adila\\Videos\\Captures\\ExtractedFrames\"\n",
    "def extract_frames(video_path, output_folder, frames_per_second=1):\n",
    "    if not os.path.exists(output_folder):\n",
    "        os.makedirs(output_folder)\n",
    "\n",
    "    cap = cv2.VideoCapture(video_path)\n",
    "    if not cap.isOpened():\n",
    "        print(f\"Error: Could not open video {video_path}\")\n",
    "        return\n"
   ]
  },
  {
   "cell_type": "code",
   "execution_count": 18,
   "id": "6d2073f7-dfca-4b62-b591-7e30ed41ac46",
   "metadata": {},
   "outputs": [
    {
     "name": "stdout",
     "output_type": "stream",
     "text": [
      "Created output folder: C:\\Users\\adila\\Videos\\Captures\\ExtractedFrames\n",
      "Extracting frames from C:\\Users\\adila\\Videos\\Captures\\geo.mp4 at 5 FPS...\n",
      "Finished extracting frames to C:\\Users\\adila\\Videos\\Captures\\ExtractedFrames. Total frames processed: 542 (at 5 FPS)\n"
     ]
    }
   ],
   "source": [
    "import cv2\n",
    "import os\n",
    "video_file = r\"C:\\Users\\adila\\Videos\\Captures\\geo.mp4\"\n",
    "output_folder = r\"C:\\Users\\adila\\Videos\\Captures\\ExtractedFrames\"\n",
    "\n",
    "def extract_frames(video_path, output_folder, frames_per_second=1):\n",
    "    if not os.path.exists(output_folder):\n",
    "        os.makedirs(output_folder)\n",
    "        print(f\"Created output folder: {output_folder}\")\n",
    "    cap = cv2.VideoCapture(video_path)\n",
    "\n",
    "    if not cap.isOpened():\n",
    "        print(f\"Error: Could not open video: {video_path}\")\n",
    "        return\n",
    "\n",
    "\n",
    "    fps = cap.get(cv2.CAP_PROP_FPS)\n",
    "    if fps == 0:\n",
    "        print(\"Error: Could not retrieve video FPS.\")\n",
    "        cap.release() \n",
    "        return\n",
    "\n",
    "    frame_interval = int(fps / frames_per_second)\n",
    "    if frame_interval == 0:\n",
    "        frame_interval = 1\n",
    "\n",
    "    frame_count = 0\n",
    "    success, image = cap.read()\n",
    "\n",
    "    print(f\"Extracting frames from {video_path} at {frames_per_second} FPS...\")\n",
    "\n",
    "    while success:\n",
    "        if frame_count % frame_interval == 0:\n",
    "            frame_filename = os.path.join(output_folder, f\"frame_{frame_count:05d}.png\")\n",
    "            cv2.imwrite(frame_filename, image)\n",
    "        success, image = cap.read()\n",
    "        frame_count += 1\n",
    "\n",
    "    cap.release()\n",
    "    print(f\"Finished extracting frames to {output_folder}. Total frames processed: {frame_count // frame_interval} (at {frames_per_second} FPS)\")\n",
    "\n",
    "\n",
    "# Call the function with your specified paths\n",
    "extract_frames(video_file, output_folder, frames_per_second=5)"
   ]
  },
  {
   "cell_type": "code",
   "execution_count": 19,
   "id": "a13dd2a3-cd35-4371-af22-41a87b5e0e6f",
   "metadata": {},
   "outputs": [
    {
     "name": "stdout",
     "output_type": "stream",
     "text": [
      "Defaulting to user installation because normal site-packages is not writeable\n",
      "Collecting folium\n",
      "  Downloading folium-0.19.6-py2.py3-none-any.whl.metadata (4.1 kB)\n",
      "Collecting branca>=0.6.0 (from folium)\n",
      "  Downloading branca-0.8.1-py3-none-any.whl.metadata (1.5 kB)\n",
      "Requirement already satisfied: jinja2>=2.9 in c:\\programdata\\anaconda3\\lib\\site-packages (from folium) (3.1.4)\n",
      "Requirement already satisfied: numpy in c:\\programdata\\anaconda3\\lib\\site-packages (from folium) (1.26.4)\n",
      "Requirement already satisfied: requests in c:\\programdata\\anaconda3\\lib\\site-packages (from folium) (2.32.3)\n",
      "Requirement already satisfied: xyzservices in c:\\programdata\\anaconda3\\lib\\site-packages (from folium) (2022.9.0)\n",
      "Requirement already satisfied: MarkupSafe>=2.0 in c:\\programdata\\anaconda3\\lib\\site-packages (from jinja2>=2.9->folium) (2.1.3)\n",
      "Requirement already satisfied: charset-normalizer<4,>=2 in c:\\programdata\\anaconda3\\lib\\site-packages (from requests->folium) (3.3.2)\n",
      "Requirement already satisfied: idna<4,>=2.5 in c:\\programdata\\anaconda3\\lib\\site-packages (from requests->folium) (3.7)\n",
      "Requirement already satisfied: urllib3<3,>=1.21.1 in c:\\programdata\\anaconda3\\lib\\site-packages (from requests->folium) (2.2.3)\n",
      "Requirement already satisfied: certifi>=2017.4.17 in c:\\programdata\\anaconda3\\lib\\site-packages (from requests->folium) (2024.8.30)\n",
      "Downloading folium-0.19.6-py2.py3-none-any.whl (112 kB)\n",
      "Downloading branca-0.8.1-py3-none-any.whl (26 kB)\n",
      "Installing collected packages: branca, folium\n",
      "Successfully installed branca-0.8.1 folium-0.19.6\n",
      "Note: you may need to restart the kernel to use updated packages.\n"
     ]
    }
   ],
   "source": [
    "pip install folium\n"
   ]
  },
  {
   "cell_type": "code",
   "execution_count": 1,
   "id": "219c0eb8-b134-4065-bb95-076dcbb7183b",
   "metadata": {},
   "outputs": [],
   "source": [
    "import cv2\n",
    "import os\n",
    "import glob"
   ]
  },
  {
   "cell_type": "code",
   "execution_count": 4,
   "id": "25844b69-153c-4abe-92c0-6887de08893d",
   "metadata": {},
   "outputs": [
    {
     "name": "stdout",
     "output_type": "stream",
     "text": [
      "Loading 11 images from C:\\Users\\adila\\Videos\\Captures\\ExtractedFrames...\n",
      "Attempting to stitch images...\n",
      "Stitching successful!\n",
      "Stitched image saved to C:\\Users\\adila\\Videos\\Captures\\stitched_drone_footage.png\n"
     ]
    }
   ],
   "source": [
    "def stitch_images_with_opencv(image_folder, output_stitched_image=\"stitched_panorama.png\"):\n",
    "    images = []\n",
    "    image_paths = sorted(glob.glob(os.path.join(image_folder, \"*.png\")))\n",
    "\n",
    "    if not image_paths:\n",
    "        print(f\"Error: No PNG images found in {image_folder}\")\n",
    "        return\n",
    "\n",
    "    print(f\"Loading {len(image_paths)} images from {image_folder}...\")\n",
    "    for path in image_paths:\n",
    "        img = cv2.imread(path)\n",
    "        if img is None:\n",
    "            print(f\"Warning: Could not load image {path}. Skipping.\")\n",
    "            continue\n",
    "        images.append(img)\n",
    "\n",
    "    if not images:\n",
    "        print(\"No valid images to stitch.\")\n",
    "        return\n",
    "    stitcher = cv2.Stitcher.create(cv2.Stitcher_PANORAMA) # Or cv2.Stitcher_SCANS\n",
    "    print(\"Attempting to stitch images...\")\n",
    "    status, stitched_image = stitcher.stitch(images)\n",
    "    if status == cv2.Stitcher_OK:\n",
    "        print(\"Stitching successful!\")\n",
    "        cv2.imwrite(output_stitched_image, stitched_image)\n",
    "        print(f\"Stitched image saved to {output_stitched_image}\")\n",
    "    else:\n",
    "        print(f\"Stitching failed! Error code: {status}\")\n",
    "        if status == cv2.Stitcher_ERR_NEED_MORE_IMGS:\n",
    "            print(\"Reason: Need more images or less overlap.\")\n",
    "        elif status == cv2.Stitcher_ERR_HOMOGRAPHY_EST_FAIL:\n",
    "            print(\"Reason: Homography estimation failed (not enough matching features).\")\n",
    "        elif status == cv2.Stitcher_ERR_CAMERA_PARAMS_ADJUST_FAIL:\n",
    "            print(\"Reason: Camera parameters adjustment failed.\")\n",
    "extracted_frames_folder = r\"C:\\Users\\adila\\Videos\\Captures\\ExtractedFrames\"\n",
    "output_stitched_path = r\"C:\\Users\\adila\\Videos\\Captures\\stitched_drone_footage.png\"\n",
    "stitch_images_with_opencv(extracted_frames_folder, output_stitched_path)"
   ]
  },
  {
   "cell_type": "code",
   "execution_count": 9,
   "id": "2a5563a2-3ae9-4bbc-9c2a-2eb21a4b24db",
   "metadata": {},
   "outputs": [
    {
     "name": "stdout",
     "output_type": "stream",
     "text": [
      "Folium map saved to drone_footage_overlay_map.html\n",
      "Stitched image bounds used: [[30.11, 78.28], [30.12, 78.29]]\n",
      "Map centered at: [30.1158, 78.2853]\n",
      "\n",
      "Interactive map saved to: C:\\Users\\adila\\drone_footage_overlay_map.html\n",
      "Open this HTML file in a web browser to view the map with your image overlay.\n"
     ]
    }
   ],
   "source": [
    "import folium\n",
    "from folium.raster_layers import ImageOverlay\n",
    "import os\n",
    "def overlay_image_on_folium_map(stitched_image_path, bounds, output_html_path=\"map_overlay.html\", center_coords=None):\n",
    "\n",
    "    if not os.path.exists(stitched_image_path):\n",
    "        print(f\"Error: Stitched image not found at {stitched_image_path}\")\n",
    "        return\n",
    "\n",
    "    if center_coords is None:\n",
    "        lat_min, lon_min = bounds[0][0], bounds[0][1] \n",
    "        lat_max, lon_max = bounds[1][0], bounds[1][1] \n",
    "        center_lat = (lat_min + lat_max) / 2\n",
    "        center_lon = (lon_min + lon_max) / 2\n",
    "        center_coords = [center_lat, center_lon]\n",
    "\n",
    "    m = folium.Map(location=center_coords, zoom_start=15, tiles=\"OpenStreetMap\") \n",
    "    image_overlay = ImageOverlay(\n",
    "        image=stitched_image_path,\n",
    "        bounds=bounds,\n",
    "        opacity=0.8,\n",
    "        alt=\"Stitched Drone Footage\"\n",
    "    ).add_to(m)\n",
    "\n",
    "    folium.Marker(\n",
    "        location=center_coords,\n",
    "        popup=f\"Center of Stitched Image: {center_coords[0]:.4f}, {center_coords[1]:.4f}\",\n",
    "        icon=folium.Icon(color='red')\n",
    "    ).add_to(m)\n",
    "\n",
    "    # Save the map to an HTML file\n",
    "    m.save(output_html_path)\n",
    "    print(f\"Folium map saved to {output_html_path}\")\n",
    "    print(f\"Stitched image bounds used: {bounds}\")\n",
    "    print(f\"Map centered at: {center_coords}\")\n",
    "stitched_image_file = r\"C:\\Users\\adila\\Videos\\Captures\\MyStitchedDroneImage.png\"\n",
    "image_bounds = [\n",
    "    [30.1100, 78.2800],\n",
    "    [30.1200, 78.2900]\n",
    "]\n",
    "\n",
    "map_center_coordinates = [30.1158, 78.2853]\n",
    "output_map_html = \"drone_footage_overlay_map.html\"\n",
    "\n",
    "# Call the function\n",
    "overlay_image_on_folium_map(\n",
    "    stitched_image_path=stitched_image_file,\n",
    "    bounds=image_bounds,\n",
    "    output_html_path=output_map_html,\n",
    "    center_coords=map_center_coordinates\n",
    ")\n",
    "\n",
    "print(f\"\\nInteractive map saved to: {os.path.abspath(output_map_html)}\")\n",
    "print(\"Open this HTML file in a web browser.\")"
   ]
  },
  {
   "cell_type": "code",
   "execution_count": null,
   "id": "039bebef-af50-450e-9641-7c316adec30c",
   "metadata": {},
   "outputs": [],
   "source": []
  }
 ],
 "metadata": {
  "kernelspec": {
   "display_name": "Python 3 (ipykernel)",
   "language": "python",
   "name": "python3"
  },
  "language_info": {
   "codemirror_mode": {
    "name": "ipython",
    "version": 3
   },
   "file_extension": ".py",
   "mimetype": "text/x-python",
   "name": "python",
   "nbconvert_exporter": "python",
   "pygments_lexer": "ipython3",
   "version": "3.12.7"
  }
 },
 "nbformat": 4,
 "nbformat_minor": 5
}
